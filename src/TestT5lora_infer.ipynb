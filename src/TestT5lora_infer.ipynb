{
 "cells": [
  {
   "cell_type": "code",
   "execution_count": 2,
   "metadata": {},
   "outputs": [
    {
     "name": "stderr",
     "output_type": "stream",
     "text": [
      "Loading checkpoint shards: 100%|██████████| 2/2 [00:19<00:00,  9.53s/it]\n"
     ]
    },
    {
     "name": "stdout",
     "output_type": "stream",
     "text": [
      "/public/home/hongy/zljin/FT_flanT5xl/src/result/quora/para/finetuned-google/flan-t5-xl/bs16_accumulation1_epoch2_lr2e-5_seed15213\n"
     ]
    }
   ],
   "source": [
    "from transformers import T5Config, T5ForConditionalGeneration, T5Tokenizer\n",
    "from peft import PeftModelForSeq2SeqLM, LoraConfig, PeftConfig, PeftModel\n",
    "\n",
    "model_path = \"/public/home/hongy/zljin/FT_flanT5xl/src/result/quora/para/finetuned-google/flan-t5-xl/bs16_accumulation1_epoch2_lr2e-5_seed15213\"\n",
    "\n",
    "config = PeftConfig.from_pretrained(model_path)\n",
    "\n",
    "model = T5ForConditionalGeneration.from_pretrained(config.base_model_name_or_path)\n",
    "model = PeftModel.from_pretrained(model, model_path)\n",
    "tokenizer = T5Tokenizer.from_pretrained(model_path)\n",
    "\n",
    "print(model_path)"
   ]
  },
  {
   "cell_type": "code",
   "execution_count": 10,
   "metadata": {},
   "outputs": [],
   "source": [
    "input_text = \"What’s the best way to forgive people?\"\n",
    "tokenized_dict = tokenizer(input_text, return_tensors=\"pt\")\n",
    "input_ids = tokenized_dict['input_ids']\n",
    "attention_mask = tokenized_dict['attention_mask']\n",
    "decoder_start_token = 0"
   ]
  },
  {
   "cell_type": "code",
   "execution_count": 11,
   "metadata": {},
   "outputs": [
    {
     "name": "stdout",
     "output_type": "stream",
     "text": [
      "tensor([[    0,   571,   103,    27, 17468,   841,    58,     1]])\n",
      "<pad> How do I forgive someone?</s>\n"
     ]
    }
   ],
   "source": [
    "outputs = model.generate(input_ids=input_ids, attention_mask=attention_mask, use_cache=True, num_beams=5, \n",
    "\t\t\t\tlength_penalty=0.6, max_length=32, repetition_penalty=2.0, decoder_start_token_id=decoder_start_token)\n",
    "print(outputs)\n",
    "print(tokenizer.decode(outputs[0]))"
   ]
  },
  {
   "cell_type": "code",
   "execution_count": null,
   "metadata": {},
   "outputs": [],
   "source": []
  }
 ],
 "metadata": {
  "kernelspec": {
   "display_name": "zljin_LLMs",
   "language": "python",
   "name": "python3"
  },
  "language_info": {
   "codemirror_mode": {
    "name": "ipython",
    "version": 3
   },
   "file_extension": ".py",
   "mimetype": "text/x-python",
   "name": "python",
   "nbconvert_exporter": "python",
   "pygments_lexer": "ipython3",
   "version": "3.9.0"
  },
  "orig_nbformat": 4
 },
 "nbformat": 4,
 "nbformat_minor": 2
}
